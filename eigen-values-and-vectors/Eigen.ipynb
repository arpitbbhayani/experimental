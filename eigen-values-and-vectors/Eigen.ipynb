{
 "cells": [
  {
   "cell_type": "code",
   "execution_count": 1,
   "id": "72383fc8-73ea-4b5c-878b-b8a27f6193a8",
   "metadata": {},
   "outputs": [
    {
     "name": "stderr",
     "output_type": "stream",
     "text": [
      "/home/arpit/workspace/arpit/experimental/eigen-values-and-vectors/venv/lib/python3.12/site-packages/numpy/_core/getlimits.py:551: UserWarning: Signature b'\\x00\\xd0\\xcc\\xcc\\xcc\\xcc\\xcc\\xcc\\xfb\\xbf\\x00\\x00\\x00\\x00\\x00\\x00' for <class 'numpy.longdouble'> does not match any known type: falling back to type probe function.\n",
      "This warnings indicates broken support for the dtype!\n",
      "  machar = _get_machar(dtype)\n"
     ]
    }
   ],
   "source": [
    "import numpy as np\n",
    "import matplotlib.pyplot as plt"
   ]
  },
  {
   "cell_type": "code",
   "execution_count": 2,
   "id": "7c6dcd70-b2ec-4ab5-b9fd-6d6ec54f6aa0",
   "metadata": {},
   "outputs": [],
   "source": [
    "# Transformation matrix\n",
    "A = np.array([[0.7, 0.2],\n",
    "              [0.3, 0.6]])\n",
    "\n",
    "# initial vector\n",
    "x0 = np.array([0.9, 0.4])"
   ]
  },
  {
   "cell_type": "code",
   "execution_count": 3,
   "id": "a26926db-9409-40d7-8298-279418dd0765",
   "metadata": {},
   "outputs": [
    {
     "name": "stdout",
     "output_type": "stream",
     "text": [
      "[0.71 0.51]\n",
      "[0.599 0.519]\n",
      "[0.5231 0.4911]\n",
      "[0.46439 0.45159]\n",
      "[0.415391 0.410271]\n",
      "[0.3728279 0.3707799]\n",
      "[0.33513551 0.33431631]\n",
      "[0.30145812 0.30113044]\n",
      "[0.27124677 0.2711157 ]\n",
      "[0.24409588 0.24404345]\n",
      "[0.21967581 0.21965483]\n",
      "[0.19770403 0.19769564]\n",
      "[0.17793195 0.17792859]\n",
      "[0.16013808 0.16013674]\n",
      "[0.14412401 0.14412347]\n",
      "[0.1297115  0.12971128]\n",
      "[0.11674031 0.11674022]\n",
      "[0.10506626 0.10506622]\n",
      "[0.09455963 0.09455961]\n",
      "[0.08510366 0.08510365]\n",
      "[0.07659329 0.07659329]\n",
      "[0.06893396 0.06893396]\n",
      "[0.06204057 0.06204057]\n",
      "[0.05583651 0.05583651]\n",
      "[0.05025286 0.05025286]\n",
      "[0.04522757 0.04522757]\n",
      "[0.04070482 0.04070482]\n",
      "[0.03663433 0.03663433]\n",
      "[0.0329709 0.0329709]\n",
      "[0.02967381 0.02967381]\n"
     ]
    }
   ],
   "source": [
    "xi = x0\n",
    "for i in range(30):\n",
    "    xi = A @ xi\n",
    "    print(xi)"
   ]
  },
  {
   "cell_type": "markdown",
   "id": "d40d75de-70c3-46bf-a5aa-4e9c2142e6b2",
   "metadata": {},
   "source": [
    "Note how the above values converge and also converge to zero as iterations tend to infinity"
   ]
  },
  {
   "cell_type": "code",
   "execution_count": 4,
   "id": "6dbe176e-d013-4961-a0c9-3a1e7ec96281",
   "metadata": {},
   "outputs": [],
   "source": [
    "# Transformation matrix\n",
    "B = np.array([[1.2, 0.2],\n",
    "              [0.3, 1.1]])\n",
    "\n",
    "# initial vector\n",
    "x0 = np.array([1.0, 0.0])"
   ]
  },
  {
   "cell_type": "code",
   "execution_count": 5,
   "id": "92be623e-52c4-49c8-8e6e-bf3098a53a63",
   "metadata": {},
   "outputs": [
    {
     "name": "stdout",
     "output_type": "stream",
     "text": [
      "[1.2 0.3]\n",
      "[1.5  0.69]\n",
      "[1.938 1.209]\n",
      "[2.5674 1.9113]\n",
      "[3.46314 2.87265]\n",
      "[4.730298 4.198857]\n",
      "[6.516129  6.0378321]\n",
      "[9.02692122 8.59645401]\n",
      "[12.55159627 12.16417578]\n",
      "[17.49475067 17.14607223]\n",
      "[24.42291526 24.10910466]\n",
      "[34.12931924 33.8468897 ]\n",
      "[47.72456103 47.47037445]\n",
      "[66.76354812 66.5347802 ]\n",
      "[93.42321379 93.21732266]\n",
      "[130.75132108 130.56601906]\n",
      "[183.0147891  182.84801729]\n",
      "[256.18735038 256.03725575]\n",
      "[358.63227161 358.49718643]\n",
      "[502.05816321 501.93658656]\n",
      "[702.85711317 702.74769418]\n",
      "[983.97807464 983.87959755]\n",
      "[1377.54960907 1377.46097969]\n",
      "[1928.55172683 1928.47196038]\n",
      "[2699.95646427 2699.88467447]\n",
      "[3779.92469202 3779.8600812 ]\n",
      "[5291.88164666 5291.82349693]\n",
      "[7408.62267538 7408.57034062]\n",
      "[10372.06127858 10372.01417729]\n",
      "[14520.87636975 14520.8339786 ]\n"
     ]
    }
   ],
   "source": [
    "xi = x0\n",
    "for i in range(30):\n",
    "    xi = B @ xi\n",
    "    print(xi)"
   ]
  },
  {
   "cell_type": "markdown",
   "id": "cb2a3323-a079-4c87-90a2-25bee5ab6e05",
   "metadata": {},
   "source": [
    "Note how the above values diverge and tend to infinity as the number of iterations tend to infinity"
   ]
  },
  {
   "cell_type": "code",
   "execution_count": 6,
   "id": "34e6115f-784e-44f4-9b47-e79957d07ed5",
   "metadata": {},
   "outputs": [
    {
     "name": "stdout",
     "output_type": "stream",
     "text": [
      "[0.9 0.4]\n"
     ]
    }
   ],
   "source": [
    "ev, _ = np.linalg.eig(A)\n",
    "print(ev)"
   ]
  },
  {
   "cell_type": "code",
   "execution_count": 7,
   "id": "3c6aaf21-e797-45fc-9851-19c37c145143",
   "metadata": {},
   "outputs": [
    {
     "name": "stdout",
     "output_type": "stream",
     "text": [
      "[1.4 0.9]\n"
     ]
    }
   ],
   "source": [
    "ev, _ = np.linalg.eig(B)\n",
    "print(ev)"
   ]
  },
  {
   "cell_type": "code",
   "execution_count": 8,
   "id": "0914fdf9-f6c9-4c79-a878-a33ab518ac19",
   "metadata": {},
   "outputs": [],
   "source": [
    "# Transformation matrix\n",
    "C = np.array([[0, 1],\n",
    "              [-1, 0]])\n",
    "\n",
    "# initial vector\n",
    "x0 = np.array([10, 20])"
   ]
  },
  {
   "cell_type": "code",
   "execution_count": 9,
   "id": "729fa20c-451b-4149-90bc-24075398db0b",
   "metadata": {},
   "outputs": [
    {
     "name": "stdout",
     "output_type": "stream",
     "text": [
      "[ 20 -10]\n",
      "[-10 -20]\n",
      "[-20  10]\n",
      "[10 20]\n",
      "[ 20 -10]\n",
      "[-10 -20]\n",
      "[-20  10]\n",
      "[10 20]\n",
      "[ 20 -10]\n",
      "[-10 -20]\n",
      "[-20  10]\n",
      "[10 20]\n",
      "[ 20 -10]\n",
      "[-10 -20]\n",
      "[-20  10]\n",
      "[10 20]\n",
      "[ 20 -10]\n",
      "[-10 -20]\n",
      "[-20  10]\n",
      "[10 20]\n",
      "[ 20 -10]\n",
      "[-10 -20]\n",
      "[-20  10]\n",
      "[10 20]\n",
      "[ 20 -10]\n",
      "[-10 -20]\n",
      "[-20  10]\n",
      "[10 20]\n",
      "[ 20 -10]\n",
      "[-10 -20]\n"
     ]
    }
   ],
   "source": [
    "xi = x0\n",
    "for i in range(30):\n",
    "    xi = C @ xi\n",
    "    print(xi)"
   ]
  },
  {
   "cell_type": "code",
   "execution_count": 10,
   "id": "21a80f36-46a3-4d5e-bb98-8f2e349084cb",
   "metadata": {},
   "outputs": [
    {
     "name": "stdout",
     "output_type": "stream",
     "text": [
      "[ 96.4 109.2]\n",
      "[89.32 94.44]\n",
      "[81.412 83.46 ]\n",
      "[73.6804 74.4996]\n",
      "[66.4762  66.80388]\n",
      "[59.894116 60.025188]\n",
      "[53.9309188 53.9833476]\n",
      "[48.54831268 48.5692842 ]\n",
      "[43.69767572 43.70606432]\n",
      "[39.32958587 39.33294131]\n",
      "[35.39729837 35.39864055]\n",
      "[31.85783697 31.85837384]\n",
      "[28.67216064 28.67237539]\n",
      "[25.80498753 25.80507343]\n",
      "[23.22450596 23.22454032]\n",
      "[20.90206223 20.90207598]\n",
      "[18.81185876 18.81186426]\n",
      "[16.93067398 16.93067618]\n",
      "[15.23760702 15.2376079 ]\n",
      "[13.7138465  13.71384685]\n",
      "[12.34246192 12.34246206]\n",
      "[11.10821575 11.10821581]\n",
      "[9.99739419 9.99739421]\n",
      "[8.99765478 8.99765478]\n",
      "[8.0978893 8.0978893]\n",
      "[7.28810037 7.28810037]\n",
      "[6.55929033 6.55929033]\n",
      "[5.9033613 5.9033613]\n",
      "[5.31302517 5.31302517]\n",
      "[4.78172265 4.78172265]\n"
     ]
    }
   ],
   "source": [
    "x0 = np.array([100, 132])\n",
    "xi = x0\n",
    "for i in range(30):\n",
    "    xi = A @ xi\n",
    "    print(xi)"
   ]
  },
  {
   "cell_type": "code",
   "execution_count": 11,
   "id": "4263c666-42e5-4eda-9ce6-0e6dfeac9161",
   "metadata": {},
   "outputs": [],
   "source": [
    "def predict_bruteforce(A, x0, k):\n",
    "    x = x0\n",
    "    for _ in range(k):\n",
    "        x = A @ x\n",
    "    return x\n",
    "\n",
    "def predict_eigen(A, x0, k):\n",
    "    eigenvalues, eigenvectors = np.linalg.eig(A)\n",
    "    return eigenvectors @ np.diag(eigenvalues ** k) @ np.linalg.inv(eigenvectors) @ x0"
   ]
  },
  {
   "cell_type": "code",
   "execution_count": 12,
   "id": "a6a93f5d-8c8d-480d-82bc-62813fd1b78f",
   "metadata": {},
   "outputs": [
    {
     "name": "stdout",
     "output_type": "stream",
     "text": [
      "bruteforce [39.32958587 39.33294131]\n",
      "eigen [39.32958587 39.33294131]\n"
     ]
    }
   ],
   "source": [
    "print(\"bruteforce\", predict_bruteforce(A, x0, 10))\n",
    "print(\"eigen\", predict_eigen(A, x0, 10))"
   ]
  }
 ],
 "metadata": {
  "kernelspec": {
   "display_name": "Python 3 (ipykernel)",
   "language": "python",
   "name": "python3"
  },
  "language_info": {
   "codemirror_mode": {
    "name": "ipython",
    "version": 3
   },
   "file_extension": ".py",
   "mimetype": "text/x-python",
   "name": "python",
   "nbconvert_exporter": "python",
   "pygments_lexer": "ipython3",
   "version": "3.12.3"
  }
 },
 "nbformat": 4,
 "nbformat_minor": 5
}
