{
 "cells": [
  {
   "cell_type": "code",
   "execution_count": 2,
   "id": "72383fc8-73ea-4b5c-878b-b8a27f6193a8",
   "metadata": {},
   "outputs": [
    {
     "name": "stderr",
     "output_type": "stream",
     "text": [
      "/home/arpit/workspace/arpit/experimental/eigen-values-and-vectors/venv/lib/python3.12/site-packages/numpy/_core/getlimits.py:551: UserWarning: Signature b'\\x00\\xd0\\xcc\\xcc\\xcc\\xcc\\xcc\\xcc\\xfb\\xbf\\x00\\x00\\x00\\x00\\x00\\x00' for <class 'numpy.longdouble'> does not match any known type: falling back to type probe function.\n",
      "This warnings indicates broken support for the dtype!\n",
      "  machar = _get_machar(dtype)\n"
     ]
    }
   ],
   "source": [
    "import numpy as np\n",
    "import matplotlib.pyplot as plt"
   ]
  },
  {
   "cell_type": "code",
   "execution_count": 16,
   "id": "7c6dcd70-b2ec-4ab5-b9fd-6d6ec54f6aa0",
   "metadata": {},
   "outputs": [],
   "source": [
    "# Transformation matrix\n",
    "A = np.array([[0.7, 0.2],\n",
    "              [0.3, 0.6]])\n",
    "\n",
    "# initial vector\n",
    "x0 = np.array([1.0, 0.0])"
   ]
  },
  {
   "cell_type": "code",
   "execution_count": 17,
   "id": "a26926db-9409-40d7-8298-279418dd0765",
   "metadata": {},
   "outputs": [
    {
     "name": "stdout",
     "output_type": "stream",
     "text": [
      "[0.7 0.3]\n",
      "[0.55 0.39]\n",
      "[0.463 0.399]\n",
      "[0.4039 0.3783]\n",
      "[0.35839 0.34815]\n",
      "[0.320503 0.316407]\n",
      "[0.2876335 0.2859951]\n",
      "[0.25854247 0.25788711]\n",
      "[0.23255715 0.23229501]\n",
      "[0.20924901 0.20914415]\n",
      "[0.18830313 0.18826119]\n",
      "[0.16946443 0.16944766]\n",
      "[0.15251463 0.15250792]\n",
      "[0.13726183 0.13725914]\n",
      "[0.12353511 0.12353404]\n",
      "[0.11118138 0.11118095]\n",
      "[0.10006316 0.10006299]\n",
      "[0.09005681 0.09005674]\n",
      "[0.08105111 0.08105109]\n",
      "[0.072946   0.07294599]\n",
      "[0.0656514  0.06565139]\n",
      "[0.05908625 0.05908625]\n",
      "[0.05317763 0.05317763]\n",
      "[0.04785987 0.04785987]\n",
      "[0.04307388 0.04307388]\n",
      "[0.03876649 0.03876649]\n",
      "[0.03488984 0.03488984]\n",
      "[0.03140086 0.03140086]\n",
      "[0.02826077 0.02826077]\n",
      "[0.02543469 0.02543469]\n"
     ]
    }
   ],
   "source": [
    "xi = x0\n",
    "for i in range(30):\n",
    "    xi = A @ xi\n",
    "    print(xi)"
   ]
  },
  {
   "cell_type": "markdown",
   "id": "d40d75de-70c3-46bf-a5aa-4e9c2142e6b2",
   "metadata": {},
   "source": [
    "Note how the above values converge and also converge to zero as iterations tend to infinity"
   ]
  },
  {
   "cell_type": "code",
   "execution_count": 18,
   "id": "6dbe176e-d013-4961-a0c9-3a1e7ec96281",
   "metadata": {},
   "outputs": [],
   "source": [
    "# Transformation matrix\n",
    "B = np.array([[1.2, 0.2],\n",
    "              [0.3, 1.1]])\n",
    "\n",
    "# initial vector\n",
    "x0 = np.array([1.0, 0.0])"
   ]
  },
  {
   "cell_type": "code",
   "execution_count": 19,
   "id": "92be623e-52c4-49c8-8e6e-bf3098a53a63",
   "metadata": {},
   "outputs": [
    {
     "name": "stdout",
     "output_type": "stream",
     "text": [
      "[1.2 0.3]\n",
      "[1.5  0.69]\n",
      "[1.938 1.209]\n",
      "[2.5674 1.9113]\n",
      "[3.46314 2.87265]\n",
      "[4.730298 4.198857]\n",
      "[6.516129  6.0378321]\n",
      "[9.02692122 8.59645401]\n",
      "[12.55159627 12.16417578]\n",
      "[17.49475067 17.14607223]\n",
      "[24.42291526 24.10910466]\n",
      "[34.12931924 33.8468897 ]\n",
      "[47.72456103 47.47037445]\n",
      "[66.76354812 66.5347802 ]\n",
      "[93.42321379 93.21732266]\n",
      "[130.75132108 130.56601906]\n",
      "[183.0147891  182.84801729]\n",
      "[256.18735038 256.03725575]\n",
      "[358.63227161 358.49718643]\n",
      "[502.05816321 501.93658656]\n",
      "[702.85711317 702.74769418]\n",
      "[983.97807464 983.87959755]\n",
      "[1377.54960907 1377.46097969]\n",
      "[1928.55172683 1928.47196038]\n",
      "[2699.95646427 2699.88467447]\n",
      "[3779.92469202 3779.8600812 ]\n",
      "[5291.88164666 5291.82349693]\n",
      "[7408.62267538 7408.57034062]\n",
      "[10372.06127858 10372.01417729]\n",
      "[14520.87636975 14520.8339786 ]\n"
     ]
    }
   ],
   "source": [
    "xi = x0\n",
    "for i in range(30):\n",
    "    xi = B @ xi\n",
    "    print(xi)"
   ]
  },
  {
   "cell_type": "markdown",
   "id": "cb2a3323-a079-4c87-90a2-25bee5ab6e05",
   "metadata": {},
   "source": [
    "Note how the above values diverge and tend to infinity as the number of iterations tend to infinity"
   ]
  },
  {
   "cell_type": "code",
   "execution_count": 22,
   "id": "34e6115f-784e-44f4-9b47-e79957d07ed5",
   "metadata": {},
   "outputs": [
    {
     "name": "stdout",
     "output_type": "stream",
     "text": [
      "[0.9 0.4]\n"
     ]
    }
   ],
   "source": [
    "ev, _ = np.linalg.eig(A)\n",
    "print(ev)"
   ]
  },
  {
   "cell_type": "code",
   "execution_count": 23,
   "id": "3c6aaf21-e797-45fc-9851-19c37c145143",
   "metadata": {},
   "outputs": [
    {
     "name": "stdout",
     "output_type": "stream",
     "text": [
      "[1.4 0.9]\n"
     ]
    }
   ],
   "source": [
    "ev, _ = np.linalg.eig(B)\n",
    "print(ev)"
   ]
  },
  {
   "cell_type": "code",
   "execution_count": 24,
   "id": "0914fdf9-f6c9-4c79-a878-a33ab518ac19",
   "metadata": {},
   "outputs": [],
   "source": [
    "# Transformation matrix\n",
    "C = np.array([[0, 1],\n",
    "              [-1, 0]])\n",
    "\n",
    "# initial vector\n",
    "x0 = np.array([10, 20])"
   ]
  },
  {
   "cell_type": "code",
   "execution_count": 25,
   "id": "729fa20c-451b-4149-90bc-24075398db0b",
   "metadata": {},
   "outputs": [
    {
     "name": "stdout",
     "output_type": "stream",
     "text": [
      "[ 20 -10]\n",
      "[-10 -20]\n",
      "[-20  10]\n",
      "[10 20]\n",
      "[ 20 -10]\n",
      "[-10 -20]\n",
      "[-20  10]\n",
      "[10 20]\n",
      "[ 20 -10]\n",
      "[-10 -20]\n",
      "[-20  10]\n",
      "[10 20]\n",
      "[ 20 -10]\n",
      "[-10 -20]\n",
      "[-20  10]\n",
      "[10 20]\n",
      "[ 20 -10]\n",
      "[-10 -20]\n",
      "[-20  10]\n",
      "[10 20]\n",
      "[ 20 -10]\n",
      "[-10 -20]\n",
      "[-20  10]\n",
      "[10 20]\n",
      "[ 20 -10]\n",
      "[-10 -20]\n",
      "[-20  10]\n",
      "[10 20]\n",
      "[ 20 -10]\n",
      "[-10 -20]\n"
     ]
    }
   ],
   "source": [
    "xi = x0\n",
    "for i in range(30):\n",
    "    xi = C @ xi\n",
    "    print(xi)"
   ]
  },
  {
   "cell_type": "code",
   "execution_count": null,
   "id": "3ed84ef5-3185-4bb1-9ceb-0f914ea959cc",
   "metadata": {},
   "outputs": [],
   "source": []
  },
  {
   "cell_type": "code",
   "execution_count": 28,
   "id": "21a80f36-46a3-4d5e-bb98-8f2e349084cb",
   "metadata": {},
   "outputs": [
    {
     "name": "stdout",
     "output_type": "stream",
     "text": [
      "[ 96.4 109.2]\n",
      "[89.32 94.44]\n",
      "[81.412 83.46 ]\n",
      "[73.6804 74.4996]\n",
      "[66.4762  66.80388]\n",
      "[59.894116 60.025188]\n",
      "[53.9309188 53.9833476]\n",
      "[48.54831268 48.5692842 ]\n",
      "[43.69767572 43.70606432]\n",
      "[39.32958587 39.33294131]\n",
      "[35.39729837 35.39864055]\n",
      "[31.85783697 31.85837384]\n",
      "[28.67216064 28.67237539]\n",
      "[25.80498753 25.80507343]\n",
      "[23.22450596 23.22454032]\n",
      "[20.90206223 20.90207598]\n",
      "[18.81185876 18.81186426]\n",
      "[16.93067398 16.93067618]\n",
      "[15.23760702 15.2376079 ]\n",
      "[13.7138465  13.71384685]\n",
      "[12.34246192 12.34246206]\n",
      "[11.10821575 11.10821581]\n",
      "[9.99739419 9.99739421]\n",
      "[8.99765478 8.99765478]\n",
      "[8.0978893 8.0978893]\n",
      "[7.28810037 7.28810037]\n",
      "[6.55929033 6.55929033]\n",
      "[5.9033613 5.9033613]\n",
      "[5.31302517 5.31302517]\n",
      "[4.78172265 4.78172265]\n"
     ]
    }
   ],
   "source": [
    "x0 = np.array([100, 132])\n",
    "xi = x0\n",
    "for i in range(30):\n",
    "    xi = A @ xi\n",
    "    print(xi)"
   ]
  },
  {
   "cell_type": "code",
   "execution_count": 31,
   "id": "4263c666-42e5-4eda-9ce6-0e6dfeac9161",
   "metadata": {},
   "outputs": [],
   "source": [
    "def predict(A: np.ndarray, initial_state: np.ndarray, k: int) -> np.ndarray:\n",
    "    \"\"\"\n",
    "    Predicts the k-th state of a linear dynamical system using eigendecomposition.\n",
    "    \n",
    "    Args:\n",
    "        A: The transformation matrix (n x n)\n",
    "        initial_state: The initial state vector (n x 1)\n",
    "        k: The number of steps to predict ahead\n",
    "    \n",
    "    Returns:\n",
    "        The predicted state vector after k iterations\n",
    "    \"\"\"\n",
    "    eigenvalues, eigenvectors = np.linalg.eig(A)\n",
    "    \n",
    "    # Check if matrix is diagonalizable (all eigenvectors are linearly independent)\n",
    "    if np.linalg.matrix_rank(eigenvectors) < len(eigenvalues):\n",
    "        raise ValueError(\"Matrix is not diagonalizable!\")\n",
    "    \n",
    "    # Get inverse of eigenvector matrix\n",
    "    eigenvectors_inv = np.linalg.inv(eigenvectors)\n",
    "    \n",
    "    # Express initial state in terms of eigenvectors\n",
    "    c = eigenvectors_inv @ initial_state\n",
    "    \n",
    "    # Compute k-th state using eigendecomposition\n",
    "    # p(k) = V * diag(λᵏ) * V⁻¹ * p(0)\n",
    "    diagonal_k = np.diag(eigenvalues ** k)\n",
    "    predicted_state = eigenvectors @ diagonal_k @ c\n",
    "    \n",
    "    # Handle numerical errors in complex numbers\n",
    "    # If result should be real, remove tiny imaginary components\n",
    "    if np.allclose(predicted_state.imag, 0):\n",
    "        predicted_state = predicted_state.real\n",
    "        \n",
    "    return predicted_state"
   ]
  },
  {
   "cell_type": "code",
   "execution_count": 36,
   "id": "a6a93f5d-8c8d-480d-82bc-62813fd1b78f",
   "metadata": {},
   "outputs": [
    {
     "name": "stdout",
     "output_type": "stream",
     "text": [
      "[35.39729837 35.39864055]\n",
      "[31.85783697 31.85837384]\n",
      "[28.67216064 28.67237539]\n"
     ]
    }
   ],
   "source": [
    "print(predict(A, [100, 132], 11))\n",
    "print(predict(A, [100, 132], 12))\n",
    "print(predict(A, [100, 132], 13))"
   ]
  }
 ],
 "metadata": {
  "kernelspec": {
   "display_name": "Python 3 (ipykernel)",
   "language": "python",
   "name": "python3"
  },
  "language_info": {
   "codemirror_mode": {
    "name": "ipython",
    "version": 3
   },
   "file_extension": ".py",
   "mimetype": "text/x-python",
   "name": "python",
   "nbconvert_exporter": "python",
   "pygments_lexer": "ipython3",
   "version": "3.12.3"
  }
 },
 "nbformat": 4,
 "nbformat_minor": 5
}
