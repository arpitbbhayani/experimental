{
 "cells": [
  {
   "cell_type": "code",
   "execution_count": 1,
   "id": "1beb207f-43ae-4cd8-a15b-54f3abd6f33f",
   "metadata": {},
   "outputs": [],
   "source": [
    "import random\n",
    "from collections import Counter"
   ]
  },
  {
   "cell_type": "code",
   "execution_count": 2,
   "id": "7e346a2f-aca7-4f63-af43-3878f64009a5",
   "metadata": {},
   "outputs": [],
   "source": [
    "def simulate_monty_hall(num_trials, switch=True):\n",
    "    \"\"\"\n",
    "    Simulate the Monty Hall problem multiple times\n",
    "    \n",
    "    Parameters:\n",
    "    num_trials (int): Number of games to simulate\n",
    "    switch (bool): Whether to switch doors after host reveals a goat\n",
    "    \n",
    "    Returns:\n",
    "    float: Win percentage\n",
    "    \"\"\"\n",
    "    wins = 0\n",
    "    \n",
    "    for _ in range(num_trials):\n",
    "        # Step 1: Set up the doors (1 car, 2 goats)\n",
    "        doors = [1, 0, 0]  # 1 represents car, 0 represents goat\n",
    "        random.shuffle(doors)\n",
    "        \n",
    "        # Step 2: Player makes initial choice\n",
    "        initial_choice = random.randint(0, 2)\n",
    "        \n",
    "        # Step 3: Host reveals a goat\n",
    "        # Host must: \n",
    "        # - Not reveal the car\n",
    "        # - Not reveal the contestant's door\n",
    "        # - Reveal a goat\n",
    "        available_doors = [i for i in range(3) \n",
    "                         if i != initial_choice and doors[i] == 0]\n",
    "        host_reveals = random.choice(available_doors)\n",
    "        \n",
    "        # Step 4: Player decides to switch or stay\n",
    "        if switch:\n",
    "            # Switch to the door that's neither initial choice nor revealed\n",
    "            final_choice = [i for i in range(3) \n",
    "                          if i != initial_choice and i != host_reveals][0]\n",
    "        else:\n",
    "            final_choice = initial_choice\n",
    "            \n",
    "        # Check if won\n",
    "        if doors[final_choice] == 1:\n",
    "            wins += 1\n",
    "            \n",
    "    return wins / num_trials"
   ]
  },
  {
   "cell_type": "code",
   "execution_count": 3,
   "id": "52bd4d22-f70a-4aef-a7d7-d1fdce91bdd5",
   "metadata": {},
   "outputs": [
    {
     "name": "stdout",
     "output_type": "stream",
     "text": [
      "Results from 10000 trials:\n",
      "Stay strategy win rate: 34.2%\n",
      "Switch strategy win rate: 66.4%\n"
     ]
    }
   ],
   "source": [
    "num_trials = 10000\n",
    "stay_win_rate = simulate_monty_hall(num_trials, switch=False)\n",
    "switch_win_rate = simulate_monty_hall(num_trials, switch=True)\n",
    "\n",
    "print(f\"Results from {num_trials} trials:\")\n",
    "print(f\"Stay strategy win rate: {stay_win_rate:.1%}\")\n",
    "print(f\"Switch strategy win rate: {switch_win_rate:.1%}\")"
   ]
  },
  {
   "cell_type": "code",
   "execution_count": 4,
   "id": "76c5064d-d51f-46f1-abac-17cd6ac835ff",
   "metadata": {},
   "outputs": [],
   "source": [
    "def calculate_theoretical_probabilities():\n",
    "    \"\"\"\n",
    "    Calculate theoretical probabilities for the Monty Hall problem\n",
    "    \"\"\"\n",
    "    # Probability table showing all possible scenarios\n",
    "    scenarios = {\n",
    "        \"Car behind door 1\": {\n",
    "            \"Initial pick door 1\": 1/3 * 1/3,\n",
    "            \"Initial pick door 2\": 1/3 * 1/2,\n",
    "            \"Initial pick door 3\": 1/3 * 1/2\n",
    "        },\n",
    "        \"Car behind door 2\": {\n",
    "            \"Initial pick door 1\": 1/3 * 1/2,\n",
    "            \"Initial pick door 2\": 1/3 * 1/3,\n",
    "            \"Initial pick door 3\": 1/3 * 1/2\n",
    "        },\n",
    "        \"Car behind door 3\": {\n",
    "            \"Initial pick door 1\": 1/3 * 1/2,\n",
    "            \"Initial pick door 2\": 1/3 * 1/2,\n",
    "            \"Initial pick door 3\": 1/3 * 1/3\n",
    "        }\n",
    "    }\n",
    "    \n",
    "    # Calculate stay vs switch probabilities\n",
    "    stay_prob = sum(1/3 * 1/3 for _ in range(3))  # 1/3\n",
    "    switch_prob = sum(1/3 * 2/3 for _ in range(3))  # 2/3\n",
    "    \n",
    "    return stay_prob, switch_prob"
   ]
  },
  {
   "cell_type": "code",
   "execution_count": 5,
   "id": "5dc23f0f-b36f-4168-a4c4-cd1e2c0f6c0c",
   "metadata": {},
   "outputs": [
    {
     "name": "stdout",
     "output_type": "stream",
     "text": [
      "\n",
      "Theoretical probabilities:\n",
      "Stay strategy: 33.3%\n",
      "Switch strategy: 66.7%\n"
     ]
    }
   ],
   "source": [
    "stay_prob, switch_prob = calculate_theoretical_probabilities()\n",
    "print(f\"\\nTheoretical probabilities:\")\n",
    "print(f\"Stay strategy: {stay_prob:.1%}\")\n",
    "print(f\"Switch strategy: {switch_prob:.1%}\")"
   ]
  }
 ],
 "metadata": {
  "kernelspec": {
   "display_name": "Python 3 (ipykernel)",
   "language": "python",
   "name": "python3"
  },
  "language_info": {
   "codemirror_mode": {
    "name": "ipython",
    "version": 3
   },
   "file_extension": ".py",
   "mimetype": "text/x-python",
   "name": "python",
   "nbconvert_exporter": "python",
   "pygments_lexer": "ipython3",
   "version": "3.12.3"
  }
 },
 "nbformat": 4,
 "nbformat_minor": 5
}
